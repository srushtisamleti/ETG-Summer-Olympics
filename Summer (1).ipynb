{
  "nbformat": 4,
  "nbformat_minor": 0,
  "metadata": {
    "colab": {
      "name": "Summer.ipynb",
      "provenance": [],
      "collapsed_sections": []
    },
    "kernelspec": {
      "name": "python3",
      "display_name": "Python 3"
    },
    "language_info": {
      "name": "python"
    }
  },
  "cells": [
    {
      "cell_type": "markdown",
      "metadata": {
        "id": "Wlah_Hsx88os"
      },
      "source": [
        "# Summer Olympics Data Analysis Assignment"
      ]
    },
    {
      "cell_type": "markdown",
      "metadata": {
        "id": "s1_KPqsOadcL"
      },
      "source": [
        "### 1. In how many cities Summer Olympics is held so far?"
      ]
    },
    {
      "cell_type": "code",
      "metadata": {
        "colab": {
          "base_uri": "https://localhost:8080/"
        },
        "id": "ruaGs2fVabVy",
        "outputId": "f630f04e-1265-4a01-cc70-25cc5e815c8d"
      },
      "source": [
        "import pandas as pd\n",
        "df = pd.read_csv('Summer.csv')\n",
        "len(df['City'].unique())"
      ],
      "execution_count": 14,
      "outputs": [
        {
          "output_type": "execute_result",
          "data": {
            "text/plain": [
              "22"
            ]
          },
          "metadata": {},
          "execution_count": 14
        }
      ]
    },
    {
      "cell_type": "markdown",
      "metadata": {
        "id": "Fy5AvU-ubUtk"
      },
      "source": [
        "### 2. Which sport is having most number of Gold Medals so far? (Top 5)"
      ]
    },
    {
      "cell_type": "code",
      "metadata": {
        "id": "XfjUwiQ6bStq"
      },
      "source": [
        "import pandas as pd\n",
        "df = pd.read_csv('Summer.csv')\n",
        "for City in df['City'].unique():\n",
        "        print(City,\":\",len(df[df['Medal']=='Gold']))\n"
      ],
      "execution_count": null,
      "outputs": []
    },
    {
      "cell_type": "markdown",
      "metadata": {
        "id": "is3yTC6QbcDn"
      },
      "source": [
        "### 3. Which sport is having most number of medals so far? (Top 5)"
      ]
    },
    {
      "cell_type": "code",
      "metadata": {
        "id": "CYK4Es_lbScv"
      },
      "source": [
        "data=[]\n",
        "for Sport in df['Sport'].unique():\n",
        "      data.append([Sport,\":\",len(df[df['Sport']==Sport])])\n",
        "print(data)     "
      ],
      "execution_count": null,
      "outputs": []
    },
    {
      "cell_type": "markdown",
      "metadata": {
        "id": "iQ0CLLV4blW8"
      },
      "source": [
        "### 4. Which player has won most number of medals? (Top 5)"
      ]
    },
    {
      "cell_type": "code",
      "metadata": {
        "id": "C3aeMgfVbRNS"
      },
      "source": [
        "for Athlete in df['Athlete'].unique():\n",
        "        print(Athlete,\":\",len(df[df['Athlete']==Athlete]))"
      ],
      "execution_count": null,
      "outputs": []
    },
    {
      "cell_type": "markdown",
      "metadata": {
        "id": "5FSXQaTBbsMK"
      },
      "source": [
        "### 5. Which player has won most number Gold Medals of medals? (Top 5)"
      ]
    },
    {
      "cell_type": "code",
      "metadata": {
        "id": "cS6ZpExVbQ8l"
      },
      "source": [
        "for Athlete in df['Athlete'].unique():\n",
        "        print(Athlete,\":\",len(df[df['Medal']=='Gold']==Athlete))"
      ],
      "execution_count": null,
      "outputs": []
    },
    {
      "cell_type": "markdown",
      "metadata": {
        "id": "l5sYSF--b1I4"
      },
      "source": [
        "### 6. In which year India won first Gold Medal in Summer Olympics?"
      ]
    },
    {
      "cell_type": "code",
      "metadata": {
        "id": "IMJ41ZePbQsS"
      },
      "source": [
        "for Year in df['Year'].unique():\n",
        "        print(Year,\":\",(df[df['City']=='India']))"
      ],
      "execution_count": null,
      "outputs": []
    },
    {
      "cell_type": "markdown",
      "metadata": {
        "id": "Hxmh3IoHb8ag"
      },
      "source": [
        "### 7. Which event is most popular in terms on number of players? (Top 5)"
      ]
    },
    {
      "cell_type": "code",
      "metadata": {
        "id": "90okLR3pbQWK"
      },
      "source": [
        "for Event in df['Event'].unique():\n",
        "        print(Event,\":\",len(df[df['Athlete']==Athlete]))"
      ],
      "execution_count": null,
      "outputs": []
    },
    {
      "cell_type": "markdown",
      "metadata": {
        "id": "6MZcyOXecEtD"
      },
      "source": [
        "### 8. Which sport is having most female Gold Medalists? (Top 5)"
      ]
    },
    {
      "cell_type": "code",
      "metadata": {
        "id": "trTyNocQbP0A"
      },
      "source": [
        "for Sport in df['Sport'].unique():\n",
        "        print(Sport,\":\",len(df[df['Gender']=='Female']))"
      ],
      "execution_count": null,
      "outputs": []
    }
  ]
}