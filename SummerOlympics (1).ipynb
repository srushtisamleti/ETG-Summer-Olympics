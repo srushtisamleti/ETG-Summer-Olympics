{
  "nbformat": 4,
  "nbformat_minor": 0,
  "metadata": {
    "colab": {
      "name": "SummerOlympics.ipynb",
      "provenance": [],
      "collapsed_sections": []
    },
    "kernelspec": {
      "name": "python3",
      "display_name": "Python 3"
    },
    "language_info": {
      "name": "python"
    }
  },
  "cells": [
    {
      "cell_type": "code",
      "metadata": {
        "id": "7gDGo93Z_Rid"
      },
      "source": [
        "import pandas as pd\n",
        "df=pd.read_csv('Summer.csv')"
      ],
      "execution_count": null,
      "outputs": []
    },
    {
      "cell_type": "markdown",
      "metadata": {
        "id": "Wlah_Hsx88os"
      },
      "source": [
        "# Summer Olympics Data Analysis Assignment"
      ]
    },
    {
      "cell_type": "markdown",
      "metadata": {
        "id": "s1_KPqsOadcL"
      },
      "source": [
        "### 1. In how many cities Summer Olympics is held so far?"
      ]
    },
    {
      "cell_type": "code",
      "metadata": {
        "id": "ruaGs2fVabVy"
      },
      "source": [
        "len(df['City'].unique())"
      ],
      "execution_count": null,
      "outputs": []
    },
    {
      "cell_type": "markdown",
      "metadata": {
        "id": "Fy5AvU-ubUtk"
      },
      "source": [
        "### 2. Which sport is having most number of Gold Medals so far? (Top 5)"
      ]
    },
    {
      "cell_type": "code",
      "metadata": {
        "id": "vqOdtQ10DonW"
      },
      "source": [
        "sportInOlympics = df[ (df.Medal == 'Gold')]\n",
        "sportInOlympics.head()"
      ],
      "execution_count": null,
      "outputs": []
    },
    {
      "cell_type": "markdown",
      "metadata": {
        "id": "is3yTC6QbcDn"
      },
      "source": [
        "### 3. Which sport is having most number of medals so far? (Top 5)"
      ]
    },
    {
      "cell_type": "code",
      "metadata": {
        "id": "K3kQPnnSD-PC"
      },
      "source": [
        "data=[]\n",
        "for sport in sportInOlympics['Sport'].unique():\n",
        "    data.append([sport,len(sportInOlympics[sportInOlympics['Sport']==sport])])\n",
        "data=pd.DataFrame(data, columns=['Sport','No. of gold medals']) \n",
        "data=data.sort_values(by='No. of gold medals', ascending=False).head()\n",
        "data"
      ],
      "execution_count": null,
      "outputs": []
    },
    {
      "cell_type": "code",
      "metadata": {
        "id": "WuV0ztx4EGS_"
      },
      "source": [
        "data.plot(x='Sport',y='No. of gold medals',kind='bar')"
      ],
      "execution_count": null,
      "outputs": []
    },
    {
      "cell_type": "code",
      "metadata": {
        "id": "kMGQCxNAEKiu"
      },
      "source": [
        "sportInOlympics = df[ (df.Medal == 'Gold')]\n",
        "sportInOlympics.head()"
      ],
      "execution_count": null,
      "outputs": []
    },
    {
      "cell_type": "markdown",
      "metadata": {
        "id": "iQ0CLLV4blW8"
      },
      "source": [
        "### 4. Which player has won most number of medals? (Top 5)"
      ]
    },
    {
      "cell_type": "code",
      "metadata": {
        "id": "Of1o2pqMDKoD"
      },
      "source": [
        "data=[]\n",
        "for sport in df['Athlete'].unique():\n",
        "    data.append([sport,len(df[df['Athlete']==sport])])\n",
        "data=pd.DataFrame(data, columns=['Athlete','No. of medals']) \n",
        "data=data.sort_values(by='No. of medals', ascending=False).head()\n",
        "data"
      ],
      "execution_count": null,
      "outputs": []
    },
    {
      "cell_type": "code",
      "metadata": {
        "id": "C3aeMgfVbRNS"
      },
      "source": [
        "data.plot(x='Athlete',y='No. of medals',kind='bar')"
      ],
      "execution_count": null,
      "outputs": []
    },
    {
      "cell_type": "markdown",
      "metadata": {
        "id": "5FSXQaTBbsMK"
      },
      "source": [
        "### 5. Which player has won most number Gold Medals of medals? (Top 5)"
      ]
    },
    {
      "cell_type": "code",
      "metadata": {
        "id": "cS6ZpExVbQ8l"
      },
      "source": [
        "playerInOlympics = df[ (df.Medal == 'Gold')]\n",
        "playerInOlympics.head()"
      ],
      "execution_count": null,
      "outputs": []
    },
    {
      "cell_type": "code",
      "metadata": {
        "id": "Tt5PBrLME0eg"
      },
      "source": [
        "data=[]\n",
        "for sport in playerInOlympics['Athlete'].unique():\n",
        "    data.append([sport,len(playerInOlympics[playerInOlympics['Athlete']==sport])])\n",
        "data=pd.DataFrame(data, columns=['Athlete','No. of gold medals']) \n",
        "data=data.sort_values(by='No. of gold medals', ascending=False).head()\n",
        "data"
      ],
      "execution_count": null,
      "outputs": []
    },
    {
      "cell_type": "code",
      "metadata": {
        "id": "fLf2ZjoGE8R6"
      },
      "source": [
        "data.plot(x='Athlete',y='No. of gold medals',kind='bar')"
      ],
      "execution_count": null,
      "outputs": []
    },
    {
      "cell_type": "markdown",
      "metadata": {
        "id": "l5sYSF--b1I4"
      },
      "source": [
        "### 6. In which year India won first Gold Medal in Summer Olympics?"
      ]
    },
    {
      "cell_type": "code",
      "metadata": {
        "id": "IMJ41ZePbQsS"
      },
      "source": [
        "IndiaInOlympics = df[(df.Country==\"IND\") & (df.Medal == 'Gold')]\n",
        "IndiaInOlympics.head(1)"
      ],
      "execution_count": null,
      "outputs": []
    },
    {
      "cell_type": "markdown",
      "metadata": {
        "id": "Hxmh3IoHb8ag"
      },
      "source": [
        "### 7. Which event is most popular in terms on number of players? (Top 5)"
      ]
    },
    {
      "cell_type": "code",
      "metadata": {
        "id": "90okLR3pbQWK"
      },
      "source": [
        "data=[]\n",
        "for sport in df['Event'].unique():\n",
        "    data.append([sport,len(df[df['Event']==sport])])\n",
        "data=pd.DataFrame(data, columns=['Event','No. of players']) \n",
        "data=data.sort_values(by='No. of players', ascending=False).head()\n",
        "data"
      ],
      "execution_count": null,
      "outputs": []
    },
    {
      "cell_type": "code",
      "metadata": {
        "id": "NGDU-FuVFPJy"
      },
      "source": [
        "data.plot(x='Event',y='No. of players',kind='bar')"
      ],
      "execution_count": null,
      "outputs": []
    },
    {
      "cell_type": "markdown",
      "metadata": {
        "id": "6MZcyOXecEtD"
      },
      "source": [
        "### 8. Which sport is having most female Gold Medalists? (Top 5)"
      ]
    },
    {
      "cell_type": "code",
      "metadata": {
        "id": "trTyNocQbP0A"
      },
      "source": [
        "womenInOlympics = df[(df.Gender == 'Women') & (df.Medal == 'Gold')]\n",
        "data=[]\n",
        "for sport in womenInOlympics['Sport'].unique():\n",
        "    data.append([sport,len(womenInOlympics[womenInOlympics['Sport']==sport])])\n",
        "data=pd.DataFrame(data, columns=['Sport','No. of female gold medalists']) \n",
        "data=data.sort_values(by='No. of female gold medalists', ascending=False).head()\n",
        "data"
      ],
      "execution_count": null,
      "outputs": []
    },
    {
      "cell_type": "code",
      "metadata": {
        "id": "QOzHx23gFX5I"
      },
      "source": [
        "data.plot(x='Sport',y='No. of female gold medalists',kind='bar')"
      ],
      "execution_count": null,
      "outputs": []
    }
  ]
}